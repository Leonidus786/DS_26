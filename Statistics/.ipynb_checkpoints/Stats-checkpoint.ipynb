{
 "cells": [
  {
   "cell_type": "markdown",
   "id": "3239be57-d45d-48fb-bd6e-9d7a19b2ed43",
   "metadata": {},
   "source": [
    "# What is Statistics?\n",
    "\n",
    "## Statistics is the science of collecting, organizing and analyzing the data.\n",
    "\n",
    "## Reason to study statistics:- To make better decisions."
   ]
  },
  {
   "cell_type": "markdown",
   "id": "8d2bd0c2-a0ae-4412-b1d3-49766f4d4fc4",
   "metadata": {},
   "source": [
    "# What is data?\n",
    "\n",
    "## Facts or piece of information that can be measured.\n",
    "\n",
    "### Eg- IQ of a class, Ages of students in a class."
   ]
  },
  {
   "cell_type": "markdown",
   "id": "01f3a93f-4216-41f1-ad3e-f229382a5ef8",
   "metadata": {},
   "source": [
    "# Type of Statistics\n",
    "\n",
    "## 1. DESCRIPTIVE Statistics:-\n",
    "#### It consists of organizing and summarizing the data.\n",
    "\n",
    "## 2. INFERENTIAL Statistic:-\n",
    "### Techniques where in we use the data that we have measured to form conclusions."
   ]
  },
  {
   "cell_type": "markdown",
   "id": "ab328540-9fdf-4466-a565-a3b841d948d2",
   "metadata": {},
   "source": [
    "# Examples:\n",
    "### You have data of Class of Maths Student \n",
    "\n",
    "#### Marks_1stSem = [84, 78, 86, 72, 75, 65, 80, 81, 92, 95, 96, 97]\n",
    "\n",
    "## Descriptive -- What is the avreage marks of the student in the class ?\n",
    "## Inferential -- Are the marks of the students of this classroom similar to the age of the maths classroomn the college?"
   ]
  },
  {
   "cell_type": "markdown",
   "id": "f431083f-98d8-41f8-93c8-22d7ee8ac9ec",
   "metadata": {},
   "source": [
    "# Population:- \n",
    "# Sample:-"
   ]
  }
 ],
 "metadata": {
  "kernelspec": {
   "display_name": "Python 3 (ipykernel)",
   "language": "python",
   "name": "python3"
  },
  "language_info": {
   "codemirror_mode": {
    "name": "ipython",
    "version": 3
   },
   "file_extension": ".py",
   "mimetype": "text/x-python",
   "name": "python",
   "nbconvert_exporter": "python",
   "pygments_lexer": "ipython3",
   "version": "3.11.7"
  }
 },
 "nbformat": 4,
 "nbformat_minor": 5
}
